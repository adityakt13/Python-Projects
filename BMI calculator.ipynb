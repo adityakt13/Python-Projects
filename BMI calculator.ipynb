{
 "cells": [
  {
   "attachments": {},
   "cell_type": "markdown",
   "metadata": {},
   "source": [
    "<div align = 'center' > <h1> BMI Calculator <h1>\n",
    "\n",
    "</div> BMI (Body mass index) is quite useful when it comes to check a person health. Body weight is the very basic and primary criteria to check if the person is healthy or not and whether the person is maintaining an appropriate weight or not. We need height and weight only to calculate BMI using the formula : weight(in kg)/ height² (in metres)."
   ]
  },
  {
   "cell_type": "code",
   "execution_count": 1,
   "metadata": {},
   "outputs": [
    {
     "name": "stdout",
     "output_type": "stream",
     "text": [
      "\tKnow your BMI to know your health better\n",
      "Name: Aditya\n",
      "Height: 178.0 c.m.\n",
      "Weight: 69.0 k.g.\n",
      "BMI: 21.8\n",
      "Aditya, your weight is normal.\n",
      "\tThankyou for using our services , visit again.\n"
     ]
    }
   ],
   "source": [
    "print(\"\\tKnow your BMI to know your health better\")\n",
    "name = input(\"Enter Your name : \")\n",
    "height = float(input(\"Enter your height in c.m.: \"))\n",
    "weight = float(input(\"Enter your weight in kilograms: \"))\n",
    "height_m = height/100  #to convert height into metres\n",
    "BMI = (weight / height_m **2).__round__(1)\n",
    "\n",
    "print (f\"Name: {name}\")\n",
    "print (f\"Height: {height} c.m.\")\n",
    "print (f\"Weight: {weight} k.g.\")\n",
    "print (f\"BMI: {BMI}\")\n",
    "if BMI <18.5:\n",
    "    print(f\"{name}, you are underweight.\")\n",
    "elif BMI >= 18.5 and BMI <25:\n",
    "    print(f\"{name}, your weight is normal.\")\n",
    "elif BMI >=25 and BMI <30:\n",
    "    print(f\"{name}, you are overweight.\")\n",
    "else:\n",
    "    print(f\"{name}, you are obese.\")\n",
    "print(\"\\tThankyou for using our services , visit again.\")"
   ]
  }
 ],
 "metadata": {
  "kernelspec": {
   "display_name": "Python 3",
   "language": "python",
   "name": "python3"
  },
  "language_info": {
   "codemirror_mode": {
    "name": "ipython",
    "version": 3
   },
   "file_extension": ".py",
   "mimetype": "text/x-python",
   "name": "python",
   "nbconvert_exporter": "python",
   "pygments_lexer": "ipython3",
   "version": "3.9.0 (tags/v3.9.0:9cf6752, Oct  5 2020, 15:34:40) [MSC v.1927 64 bit (AMD64)]"
  },
  "orig_nbformat": 4,
  "vscode": {
   "interpreter": {
    "hash": "e3b5fbd04f68e2b0d30e8aa6dfd8616d885f307650246806c8ef721be6274b54"
   }
  }
 },
 "nbformat": 4,
 "nbformat_minor": 2
}
