{
 "cells": [
  {
   "attachments": {},
   "cell_type": "markdown",
   "metadata": {},
   "source": [
    "<div align = 'center' > <h1> BMI Calculator <h1>\n",
    "\n",
    "</div> BMI (Body mass index) is quite useful when it comes to check a person health. Body weight is the very basic and primary criteria to check if the person is healthy or not and whether the person is maintaining an appropriate weight or not. We need height and weight only to calculate BMI using the formula : weight(in kg)/ height² (in metres)"
   ]
  },
  {
   "cell_type": "code",
   "execution_count": 2,
   "metadata": {},
   "outputs": [
    {
     "name": "stdout",
     "output_type": "stream",
     "text": [
      "Know your BMI to know your health better\n",
      "Aditya BMI Calculator service\n",
      "Your BMI is 22.093170054286073, your weight is normal.\n",
      "Thanyou for using our services , visit again.\n"
     ]
    }
   ],
   "source": [
    "print(\"Know your BMI to know your health better\")\n",
    "print(\"Aditya BMI Calculator service\")\n",
    "input(\"Enter Your name : \")\n",
    "height = float(input(\"Enter your height in c.m.: \"))/100  #to convert height into metres\n",
    "weight = float(input(\"Enter your weight in kilograms: \"))\n",
    "BMI = weight / (height **2)\n",
    "if BMI <18.5:\n",
    "    print(f\"Your BMI is {BMI}, you are underweight.\")\n",
    "if BMI >= 18.5 and BMI <25:\n",
    "    print(f\"Your BMI is {BMI}, your weight is normal.\")\n",
    "elif BMI >=25 and BMI <30:\n",
    "    print(f\"Your BMI is {BMI}, you are overweight.\")\n",
    "else:\n",
    "    print(f\"Your BMI is {BMI}, you are obese.\")\n",
    "print(\"Thanyou for using our services , visit again.\")"
   ]
  },
  {
   "cell_type": "code",
   "execution_count": null,
   "metadata": {},
   "outputs": [],
   "source": []
  }
 ],
 "metadata": {
  "kernelspec": {
   "display_name": "Python 3",
   "language": "python",
   "name": "python3"
  },
  "language_info": {
   "codemirror_mode": {
    "name": "ipython",
    "version": 3
   },
   "file_extension": ".py",
   "mimetype": "text/x-python",
   "name": "python",
   "nbconvert_exporter": "python",
   "pygments_lexer": "ipython3",
   "version": "3.9.0"
  },
  "orig_nbformat": 4,
  "vscode": {
   "interpreter": {
    "hash": "e3b5fbd04f68e2b0d30e8aa6dfd8616d885f307650246806c8ef721be6274b54"
   }
  }
 },
 "nbformat": 4,
 "nbformat_minor": 2
}
