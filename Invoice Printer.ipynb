{
 "cells": [
  {
   "attachments": {},
   "cell_type": "markdown",
   "metadata": {},
   "source": [
    "<div align = 'center'> <h1> Invoice <h1>\n",
    "</div> An invoice is a commercial document which is given to the buyer by the seller in relation to a transaction happened between them . It contains products, quantity, price, etc."
   ]
  },
  {
   "cell_type": "code",
   "execution_count": 6,
   "metadata": {},
   "outputs": [
    {
     "name": "stdout",
     "output_type": "stream",
     "text": [
      "\t   INVOICE\n",
      "ITEM:  Choclate\n",
      "QUANTITY:  8\n",
      "PRICE:  15.0\n",
      "CGST @( 16.665 %):  2.4997499999999997\n",
      "SGST @( 16.665 %):  2.4997499999999997\n",
      "Amount Payable:  160.0\n",
      "\tThankyou, visit again!\n"
     ]
    }
   ],
   "source": [
    "item=input(\"Enter the item: \")\n",
    "quantity = int(input(\"Enter the quantity of product: \"))\n",
    "sp=float(input(\"Enter the selling price of \" +item + \": \"))\n",
    "gst= float(input(\"Enter GST rate (%): \"))\n",
    "cgst = sp*((gst/2)/100)\n",
    "sgst=cgst\n",
    "amount = (sgst +cgst+ sp) * quantity\n",
    "\n",
    "print(\"\\t   INVOICE\")\n",
    "print(\"ITEM: \",item)\n",
    "print(\"QUANTITY: \",quantity)\n",
    "print(\"PRICE: \",sp)\n",
    "print(\"CGST @(\",(gst/2),\"%): \",cgst)\n",
    "print(\"SGST @(\",(gst/2),\"%): \",sgst)\n",
    "print (\"Amount Payable: \",amount.__round__(1))\n",
    "print (\"\\tThankyou, visit again!\")"
   ]
  }
 ],
 "metadata": {
  "kernelspec": {
   "display_name": "Python 3",
   "language": "python",
   "name": "python3"
  },
  "language_info": {
   "codemirror_mode": {
    "name": "ipython",
    "version": 3
   },
   "file_extension": ".py",
   "mimetype": "text/x-python",
   "name": "python",
   "nbconvert_exporter": "python",
   "pygments_lexer": "ipython3",
   "version": "3.9.0"
  },
  "orig_nbformat": 4,
  "vscode": {
   "interpreter": {
    "hash": "e3b5fbd04f68e2b0d30e8aa6dfd8616d885f307650246806c8ef721be6274b54"
   }
  }
 },
 "nbformat": 4,
 "nbformat_minor": 2
}
